{
 "cells": [
  {
   "cell_type": "markdown",
   "id": "fe0ea788-58dd-459e-8976-fafdb5c05c6d",
   "metadata": {},
   "source": [
    "![New York City schoolbus](schoolbus.jpg)\n",
    "\n",
    "Photo by [Jannis Lucas](https://unsplash.com/@jannis_lucas) on [Unsplash](https://unsplash.com).\n",
    "<br>\n",
    "\n",
    "Every year, American high school students take SATs, which are standardized tests intended to measure literacy, numeracy, and writing skills. There are three sections - reading, math, and writing, each with a **maximum score of 800 points**. These tests are extremely important for students and colleges, as they play a pivotal role in the admissions process.\n",
    "\n",
    "Analyzing the performance of schools is important for a variety of stakeholders, including policy and education professionals, researchers, government, and even parents considering which school their children should attend. \n",
    "\n",
    "\n",
    "You have been tasked with answering three key questions about New York City (NYC) public school SAT performance.\n",
    "\n",
    "1 - Which NYC schools have the best math results?\n",
    "\n",
    "2 - What are the top 10 performing schools based on the combined SAT scores?\n",
    "\n",
    "3 - Which single borough has the largest standard deviation in the combined SAT score?"
   ]
  },
  {
   "cell_type": "code",
   "execution_count": null,
   "id": "d0eb4f16-5a99-460d-a5ba-706b7ef0bbe7",
   "metadata": {
    "executionCancelledAt": null,
    "executionTime": 32,
    "id": "bA5ajAmk7XH6",
    "lastExecutedAt": 1740082526609,
    "lastExecutedByKernel": "b5458894-8844-4e18-bc64-7aceced3a942",
    "lastScheduledRunId": null,
    "lastSuccessfullyExecutedCode": "# Re-run this cell \nimport pandas as pd\nimport numpy as np\n\n# Read in the data\nschools = pd.read_csv(\"schools.csv\")\n\n# Preview the data\nschools.head()\n\n# Start coding here...\n# Add as many cells as you like...\nmath_threshold = 0.8 * 800  # 640\nbest_math_schools = schools[schools[\"average_math\"] >= math_threshold]\nbest_math_schools = best_math_schools.sort_values(\"average_math\", ascending=False)\nbest_math_schools = best_math_schools[[\"school_name\", \"average_math\"]]\n\n\nschools[\"total_SAT\"] = schools[\"average_math\"] + schools[\"average_reading\"] + schools[\"average_writing\"]\ntop_10_schools = schools[[\"school_name\", \"total_SAT\"]].sort_values(\"total_SAT\", ascending=False).head(10)\n\nlargest_std_dev = schools.groupby(\"borough\")[\"total_SAT\"].agg([\"count\", np.mean, np.std]).round(2)\nlarge_std_dev = largest_std_dev[largest_std_dev[\"std\"] == largest_std_dev[\"std\"].max()]\n\nlargest_std_dev = largest_std_dev.rename(columns={\"count\": \"num_schools\", \"mean\": \"average_SAT\", \"std\": \"std_SAT\"})\nlargest_std_dev = largest_std_dev[largest_std_dev[\"std_SAT\"] == largest_std_dev[\"std_SAT\"].max()].reset_index()\n\nprint(best_math_schools)\nprint(largest_std_dev)",
    "outputsMetadata": {
     "0": {
      "height": 290,
      "type": "stream"
     }
    }
   },
   "outputs": [
    {
     "name": "stdout",
     "output_type": "stream",
     "text": [
      "                                           school_name  average_math\n",
      "88                              Stuyvesant High School           754\n",
      "170                       Bronx High School of Science           714\n",
      "93                 Staten Island Technical High School           711\n",
      "365  Queens High School for the Sciences at York Co...           701\n",
      "68   High School for Mathematics, Science, and Engi...           683\n",
      "280                     Brooklyn Technical High School           682\n",
      "333                        Townsend Harris High School           680\n",
      "174  High School of American Studies at Lehman College           669\n",
      "0    New Explorations into Science, Technology and ...           657\n",
      "45                       Eleanor Roosevelt High School           641\n",
      "     borough  num_schools  average_SAT  std_SAT\n",
      "0  Manhattan           89      1340.13   230.29\n"
     ]
    }
   ],
   "source": [
    "import pandas as pd\n",
    "import numpy as np\n",
    "\n",
    "\n",
    "schools = pd.read_csv(\"schools.csv\")\n",
    "\n",
    "\n",
    "schools.head()\n",
    "\n",
    "\n",
    "math_threshold = 0.8 * 800  # 640\n",
    "best_math_schools = schools[schools[\"average_math\"] >= math_threshold]\n",
    "best_math_schools = best_math_schools.sort_values(\"average_math\", ascending=False)\n",
    "best_math_schools = best_math_schools[[\"school_name\", \"average_math\"]]\n",
    "\n",
    "\n",
    "schools[\"total_SAT\"] = schools[\"average_math\"] + schools[\"average_reading\"] + schools[\"average_writing\"]\n",
    "top_10_schools = schools[[\"school_name\", \"total_SAT\"]].sort_values(\"total_SAT\", ascending=False).head(10)\n",
    "\n",
    "largest_std_dev = schools.groupby(\"borough\")[\"total_SAT\"].agg([\"count\", np.mean, np.std]).round(2)\n",
    "large_std_dev = largest_std_dev[largest_std_dev[\"std\"] == largest_std_dev[\"std\"].max()]\n",
    "\n",
    "largest_std_dev = largest_std_dev.rename(columns={\"count\": \"num_schools\", \"mean\": \"average_SAT\", \"std\": \"std_SAT\"})\n",
    "largest_std_dev = largest_std_dev[largest_std_dev[\"std_SAT\"] == largest_std_dev[\"std_SAT\"].max()].reset_index()\n",
    "\n",
    "print(best_math_schools)\n",
    "print(largest_std_dev)"
   ]
  }
 ],
 "metadata": {
  "editor": "DataLab",
  "kernelspec": {
   "display_name": "Python 3 (ipykernel)",
   "language": "python",
   "name": "python3"
  },
  "language_info": {
   "codemirror_mode": {
    "name": "ipython",
    "version": 3
   },
   "file_extension": ".py",
   "mimetype": "text/x-python",
   "name": "python",
   "nbconvert_exporter": "python",
   "pygments_lexer": "ipython3",
   "version": "3.8.10"
  }
 },
 "nbformat": 4,
 "nbformat_minor": 5
}
